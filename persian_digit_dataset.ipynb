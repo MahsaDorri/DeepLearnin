{
  "cells": [
    {
      "cell_type": "markdown",
      "metadata": {
        "id": "view-in-github",
        "colab_type": "text"
      },
      "source": [
        "<a href=\"https://colab.research.google.com/github/MahsaDorri/DeepLearning/blob/main/persian_digit_dataset.ipynb\" target=\"_parent\"><img src=\"https://colab.research.google.com/assets/colab-badge.svg\" alt=\"Open In Colab\"/></a>"
      ]
    },
    {
      "cell_type": "markdown",
      "metadata": {
        "id": "Nac75nfS_Lyb"
      },
      "source": [
        "\n",
        "<h1><div style=\"direction:rtl;font-family:B Lotus, B Nazanin, Tahoma\">Introducing the HODA dataset and resizing/shaping for use in machine learning algorithms\n",
        "\n",
        "</div></h1>"
      ]
    },
    {
      "cell_type": "markdown",
      "metadata": {
        "id": "XUTb-ytA_Lyd"
      },
      "source": [
        "## <div style=\"direction:rtl;text-align:left;font-family:B Lotus, B Nazanin, Tahoma\"> The HODA Handwritten Digit Dataset</div>\n",
        "\n",
        "<div style=\"direction:rtl;text-align:left;font-family:Tahoma\">\n",
        "The HODA handwritten digit dataset, the first large dataset of handwritten Persian digits, contains 102,353 black-and-white samples. This dataset was prepared as part of a master's thesis project on handwritten form recognition. The data in this collection were extracted from about 12,000 registration forms for the 2005 master's entrance exam and the 2004 comprehensive associate degree entrance exam[1].\n",
        "</div>\n",
        "<p>\n",
        "<a href=\"https://www.sciencedirect.com/science/article/pii/S0167865507000037\" target=\"_blank\">\n",
        "H. Khosravi and E. Kabir, \"Introducing a very large dataset of handwritten Farsi digits and a study on their varieties,\" Pattern Recognition Letters, vol. 28, pp. 1133-1141, 2007. ]\n",
        "</a>    \n",
        "</p>"
      ]
    },
    {
      "cell_type": "markdown",
      "metadata": {
        "id": "BEX-EEVB_Lye"
      },
      "source": [
        "## <div style=\"direction:rtl;text-align:left;font-family:B Lotus, B Nazanin, Tahoma\">Importing Libraries</div>\n",
        "<div style=\"direction:rtl;text-align:left;font-family:Tahoma\">\n",
        "To run this notebook, you must install the libraries numpy, scipy, matplotlib, and opencv-python. To do so, connect to the internet and enter the following commands in the terminal:\n",
        "</div>\n",
        "<p>pip install numpy</p>\n",
        "<p>pip install scipy</p>\n",
        "<p>pip install matplotlib</p>\n",
        "<p>pip install opencv-python</p>\n",
        "\n",
        "<div style=\"direction:rtl;text-align:right;font-family:Tahoma\">\n",
        "Alternatively, if you use Anaconda, you can replace pip with conda.\n",
        "</div>"
      ]
    },
    {
      "cell_type": "code",
      "execution_count": null,
      "metadata": {
        "nbpresent": {
          "id": "de829a92-1fb6-44ad-a2c6-fc1001e1f6e1"
        },
        "id": "BoDofukw_Lye"
      },
      "outputs": [],
      "source": [
        "import numpy as np\n",
        "from scipy import io\n",
        "import matplotlib.pyplot as plt\n",
        "import cv2"
      ]
    },
    {
      "cell_type": "markdown",
      "metadata": {
        "id": "aolLagO-_Lyf"
      },
      "source": [
        "## <div style=\"direction:rtl;text-align:left;font-family:B Lotus, B Nazanin, Tahoma\">Loading the Dataset(dataset)</div>\n",
        "<div style=\"direction:rtl;text-align:left;font-family:Tahoma\">\n",
        "This dataset is available in the MATLAB .mat format. You can load it in Python using the scipy library.\n",
        "</div>\n"
      ]
    },
    {
      "cell_type": "code",
      "source": [
        "!wget https://github.com/Alireza-Akhavan/ML-notebooks/raw/refs/heads/main/dataset/Data_hoda_full.mat -P dataset"
      ],
      "metadata": {
        "colab": {
          "base_uri": "https://localhost:8080/"
        },
        "id": "1VM9ODhJEehX",
        "outputId": "52c1a387-4610-4b3c-f264-9d981e905efe"
      },
      "execution_count": null,
      "outputs": [
        {
          "output_type": "stream",
          "name": "stdout",
          "text": [
            "--2024-11-25 15:01:23--  https://github.com/Alireza-Akhavan/ML-notebooks/raw/refs/heads/main/dataset/Data_hoda_full.mat\n",
            "Resolving github.com (github.com)... 140.82.112.3\n",
            "Connecting to github.com (github.com)|140.82.112.3|:443... connected.\n",
            "HTTP request sent, awaiting response... 302 Found\n",
            "Location: https://raw.githubusercontent.com/Alireza-Akhavan/ML-notebooks/refs/heads/main/dataset/Data_hoda_full.mat [following]\n",
            "--2024-11-25 15:01:24--  https://raw.githubusercontent.com/Alireza-Akhavan/ML-notebooks/refs/heads/main/dataset/Data_hoda_full.mat\n",
            "Resolving raw.githubusercontent.com (raw.githubusercontent.com)... 185.199.108.133, 185.199.109.133, 185.199.110.133, ...\n",
            "Connecting to raw.githubusercontent.com (raw.githubusercontent.com)|185.199.108.133|:443... connected.\n",
            "HTTP request sent, awaiting response... 200 OK\n",
            "Length: 3989009 (3.8M) [application/octet-stream]\n",
            "Saving to: ‘dataset/Data_hoda_full.mat.1’\n",
            "\n",
            "Data_hoda_full.mat. 100%[===================>]   3.80M  --.-KB/s    in 0.08s   \n",
            "\n",
            "2024-11-25 15:01:24 (47.0 MB/s) - ‘dataset/Data_hoda_full.mat.1’ saved [3989009/3989009]\n",
            "\n"
          ]
        }
      ]
    },
    {
      "cell_type": "code",
      "execution_count": null,
      "metadata": {
        "id": "mnX8_MC3_Lyf"
      },
      "outputs": [],
      "source": [
        "#load dataset\n",
        "dataset = io.loadmat('./dataset/Data_hoda_full.mat')"
      ]
    },
    {
      "cell_type": "code",
      "source": [
        "type(dataset)"
      ],
      "metadata": {
        "colab": {
          "base_uri": "https://localhost:8080/"
        },
        "id": "vBvnBk7Ot4RL",
        "outputId": "16f12ad9-3cbb-4a5f-d285-a667bc869092"
      },
      "execution_count": null,
      "outputs": [
        {
          "output_type": "execute_result",
          "data": {
            "text/plain": [
              "dict"
            ]
          },
          "metadata": {},
          "execution_count": 27
        }
      ]
    },
    {
      "cell_type": "code",
      "source": [
        "dataset.keys()"
      ],
      "metadata": {
        "colab": {
          "base_uri": "https://localhost:8080/"
        },
        "id": "TjR6rbezv_3u",
        "outputId": "e20d0e6d-981e-4b80-e763-10dd2ea4d7c1"
      },
      "execution_count": null,
      "outputs": [
        {
          "output_type": "execute_result",
          "data": {
            "text/plain": [
              "dict_keys(['__header__', '__version__', '__globals__', 'Data', 'labels'])"
            ]
          },
          "metadata": {},
          "execution_count": 28
        }
      ]
    },
    {
      "cell_type": "code",
      "source": [
        "dataset['Data'][0,0]"
      ],
      "metadata": {
        "colab": {
          "base_uri": "https://localhost:8080/",
          "height": 67
        },
        "id": "KnFmVSYswFfK",
        "outputId": "b6f46706-42b8-4122-c3ee-7f7e5fd84df4"
      },
      "execution_count": null,
      "outputs": [
        {
          "output_type": "execute_result",
          "data": {
            "text/plain": [
              "array([[  0,   0,   0,   0, 255, 255,   0,   0,   0,   0,   0,   0,   0,\n",
              "          0,   0,   0,   0,   0,   0,   0],\n",
              "       [  0,   0,   0, 255, 255, 255, 255,   0,   0,   0,   0,   0,   0,\n",
              "          0,   0,   0,   0,   0,   0,   0],\n",
              "       [  0,   0, 255, 255, 255, 255, 255,   0,   0,   0,   0,   0,   0,\n",
              "          0,   0,   0,   0, 255, 255,   0],\n",
              "       [  0, 255, 255, 255, 255, 255,   0,   0,   0,   0,   0,   0,   0,\n",
              "          0,   0,   0, 255, 255, 255, 255],\n",
              "       [  0, 255, 255, 255, 255,   0,   0,   0,   0,   0,   0,   0,   0,\n",
              "          0,   0, 255, 255, 255, 255,   0],\n",
              "       [  0, 255, 255, 255,   0,   0,   0,   0,   0,   0,   0,   0,   0,\n",
              "          0, 255, 255, 255, 255, 255,   0],\n",
              "       [255, 255, 255, 255,   0,   0,   0,   0,   0,   0,   0,   0,   0,\n",
              "        255, 255, 255, 255, 255,   0,   0],\n",
              "       [255, 255, 255,   0,   0,   0,   0,   0,   0,   0,   0,   0, 255,\n",
              "        255, 255, 255, 255,   0,   0,   0],\n",
              "       [255, 255, 255,   0,   0,   0,   0,   0,   0,   0, 255, 255, 255,\n",
              "        255, 255, 255, 255,   0,   0,   0],\n",
              "       [255, 255, 255,   0,   0,   0,   0,   0,   0, 255, 255, 255, 255,\n",
              "        255, 255, 255,   0,   0,   0,   0],\n",
              "       [255, 255, 255, 255, 255, 255, 255, 255, 255, 255, 255, 255, 255,\n",
              "        255, 255,   0,   0,   0,   0,   0],\n",
              "       [255, 255, 255, 255, 255, 255, 255, 255, 255, 255, 255, 255, 255,\n",
              "        255,   0,   0,   0,   0,   0,   0],\n",
              "       [  0, 255, 255, 255, 255, 255, 255, 255, 255, 255, 255, 255, 255,\n",
              "          0,   0,   0,   0,   0,   0,   0],\n",
              "       [  0,   0,   0,   0, 255, 255, 255, 255, 255, 255, 255, 255, 255,\n",
              "          0,   0,   0,   0,   0,   0,   0],\n",
              "       [  0,   0,   0,   0,   0,   0,   0, 255, 255, 255, 255, 255,   0,\n",
              "          0,   0,   0,   0,   0,   0,   0],\n",
              "       [  0,   0,   0,   0,   0,   0,   0, 255, 255, 255, 255,   0,   0,\n",
              "          0,   0,   0,   0,   0,   0,   0],\n",
              "       [  0,   0,   0,   0,   0,   0, 255, 255, 255, 255, 255,   0,   0,\n",
              "          0,   0,   0,   0,   0,   0,   0],\n",
              "       [  0,   0,   0,   0,   0,   0, 255, 255, 255, 255,   0,   0,   0,\n",
              "          0,   0,   0,   0,   0,   0,   0],\n",
              "       [  0,   0,   0,   0,   0, 255, 255, 255, 255, 255,   0,   0,   0,\n",
              "          0,   0,   0,   0,   0,   0,   0],\n",
              "       [  0,   0,   0,   0,   0, 255, 255, 255, 255,   0,   0,   0,   0,\n",
              "          0,   0,   0,   0,   0,   0,   0],\n",
              "       [  0,   0,   0,   0,   0, 255, 255, 255, 255,   0,   0,   0,   0,\n",
              "          0,   0,   0,   0,   0,   0,   0],\n",
              "       [  0,   0,   0,   0,   0, 255, 255, 255, 255,   0,   0,   0,   0,\n",
              "          0,   0,   0,   0,   0,   0,   0],\n",
              "       [  0,   0,   0,   0,   0, 255, 255, 255,   0,   0,   0,   0,   0,\n",
              "          0,   0,   0,   0,   0,   0,   0],\n",
              "       [  0,   0,   0,   0, 255, 255, 255, 255,   0,   0,   0,   0,   0,\n",
              "          0,   0,   0,   0,   0,   0,   0],\n",
              "       [  0,   0,   0,   0, 255, 255, 255, 255,   0,   0,   0,   0,   0,\n",
              "          0,   0,   0,   0,   0,   0,   0],\n",
              "       [  0,   0,   0,   0, 255, 255, 255,   0,   0,   0,   0,   0,   0,\n",
              "          0,   0,   0,   0,   0,   0,   0],\n",
              "       [  0,   0,   0,   0,   0, 255, 255,   0,   0,   0,   0,   0,   0,\n",
              "          0,   0,   0,   0,   0,   0,   0]], dtype=uint8)"
            ],
            "text/html": [
              "<style>\n",
              "      .ndarray_repr .ndarray_raw_data {\n",
              "        display: none;\n",
              "      }\n",
              "      .ndarray_repr.show_array .ndarray_raw_data {\n",
              "        display: block;\n",
              "      }\n",
              "      .ndarray_repr.show_array .ndarray_image_preview {\n",
              "        display: none;\n",
              "      }\n",
              "      </style>\n",
              "      <div id=\"id-8c844e01-066d-472b-aa73-e88adc020499\" class=\"ndarray_repr\"><pre>ndarray (27, 20) <button style=\"padding: 0 2px;\">show data</button></pre><img src=\"data:image/png;base64,iVBORw0KGgoAAAANSUhEUgAAABQAAAAbCAAAAABZtPAEAAAAZElEQVR4nI2QQQ6AIBDEOhv//+XxIOoyYCIXkqYszQJgM50CDE4Ymo0uppeN58lUK4OaJo5R1cV7/BHa0zkxAYpKzWZrK63suryDrSZ+b72VjWEq4GbzKWb8H6iE/jJ3UAtUmCebnxYxPNal3wAAAABJRU5ErkJggg==\" class=\"ndarray_image_preview\" /><pre class=\"ndarray_raw_data\">array([[  0,   0,   0,   0, 255, 255,   0,   0,   0,   0,   0,   0,   0,\n",
              "          0,   0,   0,   0,   0,   0,   0],\n",
              "       [  0,   0,   0, 255, 255, 255, 255,   0,   0,   0,   0,   0,   0,\n",
              "          0,   0,   0,   0,   0,   0,   0],\n",
              "       [  0,   0, 255, 255, 255, 255, 255,   0,   0,   0,   0,   0,   0,\n",
              "          0,   0,   0,   0, 255, 255,   0],\n",
              "       [  0, 255, 255, 255, 255, 255,   0,   0,   0,   0,   0,   0,   0,\n",
              "          0,   0,   0, 255, 255, 255, 255],\n",
              "       [  0, 255, 255, 255, 255,   0,   0,   0,   0,   0,   0,   0,   0,\n",
              "          0,   0, 255, 255, 255, 255,   0],\n",
              "       [  0, 255, 255, 255,   0,   0,   0,   0,   0,   0,   0,   0,   0,\n",
              "          0, 255, 255, 255, 255, 255,   0],\n",
              "       [255, 255, 255, 255,   0,   0,   0,   0,   0,   0,   0,   0,   0,\n",
              "        255, 255, 255, 255, 255,   0,   0],\n",
              "       [255, 255, 255,   0,   0,   0,   0,   0,   0,   0,   0,   0, 255,\n",
              "        255, 255, 255, 255,   0,   0,   0],\n",
              "       [255, 255, 255,   0,   0,   0,   0,   0,   0,   0, 255, 255, 255,\n",
              "        255, 255, 255, 255,   0,   0,   0],\n",
              "       [255, 255, 255,   0,   0,   0,   0,   0,   0, 255, 255, 255, 255,\n",
              "        255, 255, 255,   0,   0,   0,   0],\n",
              "       [255, 255, 255, 255, 255, 255, 255, 255, 255, 255, 255, 255, 255,\n",
              "        255, 255,   0,   0,   0,   0,   0],\n",
              "       [255, 255, 255, 255, 255, 255, 255, 255, 255, 255, 255, 255, 255,\n",
              "        255,   0,   0,   0,   0,   0,   0],\n",
              "       [  0, 255, 255, 255, 255, 255, 255, 255, 255, 255, 255, 255, 255,\n",
              "          0,   0,   0,   0,   0,   0,   0],\n",
              "       [  0,   0,   0,   0, 255, 255, 255, 255, 255, 255, 255, 255, 255,\n",
              "          0,   0,   0,   0,   0,   0,   0],\n",
              "       [  0,   0,   0,   0,   0,   0,   0, 255, 255, 255, 255, 255,   0,\n",
              "          0,   0,   0,   0,   0,   0,   0],\n",
              "       [  0,   0,   0,   0,   0,   0,   0, 255, 255, 255, 255,   0,   0,\n",
              "          0,   0,   0,   0,   0,   0,   0],\n",
              "       [  0,   0,   0,   0,   0,   0, 255, 255, 255, 255, 255,   0,   0,\n",
              "          0,   0,   0,   0,   0,   0,   0],\n",
              "       [  0,   0,   0,   0,   0,   0, 255, 255, 255, 255,   0,   0,   0,\n",
              "          0,   0,   0,   0,   0,   0,   0],\n",
              "       [  0,   0,   0,   0,   0, 255, 255, 255, 255, 255,   0,   0,   0,\n",
              "          0,   0,   0,   0,   0,   0,   0],\n",
              "       [  0,   0,   0,   0,   0, 255, 255, 255, 255,   0,   0,   0,   0,\n",
              "          0,   0,   0,   0,   0,   0,   0],\n",
              "       [  0,   0,   0,   0,   0, 255, 255, 255, 255,   0,   0,   0,   0,\n",
              "          0,   0,   0,   0,   0,   0,   0],\n",
              "       [  0,   0,   0,   0,   0, 255, 255, 255, 255,   0,   0,   0,   0,\n",
              "          0,   0,   0,   0,   0,   0,   0],\n",
              "       [  0,   0,   0,   0,   0, 255, 255, 255,   0,   0,   0,   0,   0,\n",
              "          0,   0,   0,   0,   0,   0,   0],\n",
              "       [  0,   0,   0,   0, 255, 255, 255, 255,   0,   0,   0,   0,   0,\n",
              "          0,   0,   0,   0,   0,   0,   0],\n",
              "       [  0,   0,   0,   0, 255, 255, 255, 255,   0,   0,   0,   0,   0,\n",
              "          0,   0,   0,   0,   0,   0,   0],\n",
              "       [  0,   0,   0,   0, 255, 255, 255,   0,   0,   0,   0,   0,   0,\n",
              "          0,   0,   0,   0,   0,   0,   0],\n",
              "       [  0,   0,   0,   0,   0, 255, 255,   0,   0,   0,   0,   0,   0,\n",
              "          0,   0,   0,   0,   0,   0,   0]], dtype=uint8)</pre></div><script>\n",
              "      (() => {\n",
              "      const titles = ['show data', 'hide data'];\n",
              "      let index = 0\n",
              "      document.querySelector('#id-8c844e01-066d-472b-aa73-e88adc020499 button').onclick = (e) => {\n",
              "        document.querySelector('#id-8c844e01-066d-472b-aa73-e88adc020499').classList.toggle('show_array');\n",
              "        index = (++index) % 2;\n",
              "        document.querySelector('#id-8c844e01-066d-472b-aa73-e88adc020499 button').textContent = titles[index];\n",
              "        e.preventDefault();\n",
              "        e.stopPropagation();\n",
              "      }\n",
              "      })();\n",
              "    </script>"
            ]
          },
          "metadata": {},
          "execution_count": 29
        }
      ]
    },
    {
      "cell_type": "code",
      "source": [
        "data =np.squeeze(dataset['Data'])\n",
        "data.shape"
      ],
      "metadata": {
        "colab": {
          "base_uri": "https://localhost:8080/"
        },
        "id": "i6zI0tfVwhJr",
        "outputId": "fdc3e3c6-f5c9-419a-97df-908d2d5b302f"
      },
      "execution_count": null,
      "outputs": [
        {
          "output_type": "execute_result",
          "data": {
            "text/plain": [
              "(60000,)"
            ]
          },
          "metadata": {},
          "execution_count": 30
        }
      ]
    },
    {
      "cell_type": "markdown",
      "metadata": {
        "id": "1aD-eN2V_Lyg"
      },
      "source": [
        "## <div style=\"direction:rtl;text-align:left;font-family:B Lotus, B Nazanin, Tahoma\">Dataset Overview</div>\n",
        "<div style=\"direction:rtl;text-align:left;font-family:Tahoma\">\n",
        "The dataset contains 60,000 random samples. For our experiments:\n",
        "<br>\n",
        "\n",
        "The first 1,000 samples will be used as the training set.\n",
        "The next 200 samples will be used as the test set.\n",
        "\n",
        "<br>Note: Test data must not be included in the training data.</div>"
      ]
    },
    {
      "cell_type": "code",
      "execution_count": null,
      "metadata": {
        "id": "4m5fUF3c_Lyg"
      },
      "outputs": [],
      "source": [
        "#test and training set\n",
        "X_train_orginal = np.squeeze(dataset['Data'][:1000])\n",
        "y_train = np.squeeze(dataset['labels'][:1000])\n",
        "X_test_original = np.squeeze(dataset['Data'][1000:1200])\n",
        "y_test = np.squeeze(dataset['labels'][1000:1200])"
      ]
    },
    {
      "cell_type": "markdown",
      "metadata": {
        "id": "u_Eu1gfk_Lyg"
      },
      "source": [
        "\"squeeze\": Remove single-dimensional entries from the shape of an array."
      ]
    },
    {
      "cell_type": "code",
      "execution_count": null,
      "metadata": {
        "colab": {
          "base_uri": "https://localhost:8080/",
          "height": 430
        },
        "id": "U6HeqIfT_Lyh",
        "outputId": "7071db3b-93f1-45fa-dc02-29f703947b23"
      },
      "outputs": [
        {
          "output_type": "display_data",
          "data": {
            "text/plain": [
              "<Figure size 640x480 with 1 Axes>"
            ],
            "image/png": "[encoded data removed]"
          },
          "metadata": {}
        }
      ],
      "source": [
        "plt.imshow(X_train_orginal[999], cmap='gray')\n",
        "plt.show()"
      ]
    },
    {
      "cell_type": "code",
      "source": [
        "i = int(input(\"which index you want?\")) # ask i\n",
        "plt.imshow(data[i], cmap='gray') #showing the ith data\n",
        "plt.title(dataset['labels'][i])  # label it\n",
        "plt.show()"
      ],
      "metadata": {
        "colab": {
          "base_uri": "https://localhost:8080/",
          "height": 470
        },
        "id": "tfD8iT6Y0W-g",
        "outputId": "98dc92b7-a9b3-43db-8827-386c7a78670e"
      },
      "execution_count": null,
      "outputs": [
        {
          "name": "stdout",
          "output_type": "stream",
          "text": [
            "which index you want?400\n"
          ]
        },
        {
          "output_type": "display_data",
          "data": {
            "text/plain": [
              "<Figure size 640x480 with 1 Axes>"
            ],
            "image/png": "[encoded data removed]"
          },
          "metadata": {}
        }
      ]
    },
    {
      "cell_type": "code",
      "execution_count": null,
      "metadata": {
        "id": "IT43sM_7_Lyh",
        "outputId": "1a7fa12f-4b3d-4f11-e49a-02a1322deb53"
      },
      "outputs": [
        {
          "data": {
            "image/png": "[encoded data removed]",
            "text/plain": [
              "<Figure size 432x288 with 1 Axes>"
            ]
          },
          "metadata": {
            "needs_background": "light"
          },
          "output_type": "display_data"
        },
        {
          "name": "stdout",
          "output_type": "stream",
          "text": [
            "Label 70th image is: 8\n"
          ]
        }
      ],
      "source": [
        "i=70\n",
        "image = X_train_orginal[i]\n",
        "label = y_train[i]\n",
        "plt.imshow(image, cmap='gray')\n",
        "plt.show()\n",
        "print(\"Label {}th image is: {}\".format(i, label))"
      ]
    },
    {
      "cell_type": "markdown",
      "metadata": {
        "id": "7Cjpiff8_Lyh"
      },
      "source": [
        "## <div style=\"direction:rtl;text-align:left;font-family:B Lotus, B Nazanin, Tahoma\">Resizing the Dataset</div>\n",
        "<div style=\"direction:rtl;text-align:left;font-family:Tahoma\">\n",
        "The dataset contains images of varying sizes. We will resize all images to a fixed size, such as 64x64 pixels or 5x5 pixels, depending on the requirement. <br>\n",
        "</div>"
      ]
    },
    {
      "cell_type": "code",
      "source": [
        "xtrain_resized = [cv2.resize(i, dsize=(64,64)) for i in X_train_orginal]\n",
        "imagei = xtrain_resized[12]\n",
        "plt.imshow(imagei, cmap='gray')\n",
        "plt.show()"
      ],
      "metadata": {
        "colab": {
          "base_uri": "https://localhost:8080/",
          "height": 432
        },
        "id": "clIUDBKR-2Zi",
        "outputId": "0155653c-0201-4e27-93d4-967bfadcfa8b"
      },
      "execution_count": null,
      "outputs": [
        {
          "output_type": "display_data",
          "data": {
            "text/plain": [
              "<Figure size 640x480 with 1 Axes>"
            ],
            "image/png": "[encoded data removed]"
          },
          "metadata": {}
        }
      ]
    },
    {
      "cell_type": "code",
      "execution_count": null,
      "metadata": {
        "id": "xYFYZ8vQ_Lyi"
      },
      "outputs": [],
      "source": [
        "#resize\n",
        "X_train_5by5 = [cv2.resize(img, dsize=(5, 5)) for img in X_train_orginal]\n",
        "X_test_5by_5 = [cv2.resize(img, dsize=(5, 5)) for img in X_test_original]"
      ]
    },
    {
      "cell_type": "code",
      "execution_count": null,
      "metadata": {
        "colab": {
          "base_uri": "https://localhost:8080/",
          "height": 430
        },
        "id": "BDzOYXI1_Lyi",
        "outputId": "5050deec-7d9b-4bdb-c8c2-a29447ca1b8b"
      },
      "outputs": [
        {
          "output_type": "display_data",
          "data": {
            "text/plain": [
              "<Figure size 640x480 with 1 Axes>"
            ],
            "image/png": "[encoded data removed]"
          },
          "metadata": {}
        }
      ],
      "source": [
        "image = X_train_5by5[1]\n",
        "plt.imshow(image, cmap='gray')\n",
        "plt.show()"
      ]
    },
    {
      "cell_type": "code",
      "source": [
        "for i in range(10):\n",
        "  h,w =X_train_5by5[i].shape\n",
        "  print(h,w, \"==========number of pixels======>\", h*w)"
      ],
      "metadata": {
        "colab": {
          "base_uri": "https://localhost:8080/"
        },
        "id": "6XLpgmkwBEkH",
        "outputId": "639157a7-1f7a-4eda-b6ea-71e3158d4d20"
      },
      "execution_count": null,
      "outputs": [
        {
          "output_type": "stream",
          "name": "stdout",
          "text": [
            "5 5 ==========number of pixels======> 25\n",
            "5 5 ==========number of pixels======> 25\n",
            "5 5 ==========number of pixels======> 25\n",
            "5 5 ==========number of pixels======> 25\n",
            "5 5 ==========number of pixels======> 25\n",
            "5 5 ==========number of pixels======> 25\n",
            "5 5 ==========number of pixels======> 25\n",
            "5 5 ==========number of pixels======> 25\n",
            "5 5 ==========number of pixels======> 25\n",
            "5 5 ==========number of pixels======> 25\n"
          ]
        }
      ]
    },
    {
      "cell_type": "markdown",
      "metadata": {
        "id": "qyliERWg_Lyi"
      },
      "source": [
        "\n",
        "\n",
        "## <div style=\"direction:rtl;text-align:left;font-family:B Lotus, B Nazanin, Tahoma\">Reshaping the Dataset</div>\n"
      ]
    },
    {
      "cell_type": "code",
      "execution_count": null,
      "metadata": {
        "id": "9G3N-UA__Lyi"
      },
      "outputs": [],
      "source": [
        "#reshape\n",
        "X_train = np.reshape(X_train_5by5, [-1,25])\n",
        "X_test = np.reshape(X_test_5by_5, [-1,25])"
      ]
    },
    {
      "cell_type": "code",
      "execution_count": null,
      "metadata": {
        "id": "18QsCBeU_Lyi",
        "outputId": "bc0d404a-830a-465f-bcd8-21f69bf729a4"
      },
      "outputs": [
        {
          "data": {
            "text/plain": [
              "(1000, 25)"
            ]
          },
          "execution_count": 9,
          "metadata": {},
          "output_type": "execute_result"
        }
      ],
      "source": [
        "X_train.shape"
      ]
    },
    {
      "cell_type": "code",
      "execution_count": null,
      "metadata": {
        "id": "qXtoEZbG_Lyi",
        "outputId": "482cb4aa-89b9-41a1-9a82-c48dadca337a"
      },
      "outputs": [
        {
          "data": {
            "text/plain": [
              "(200, 25)"
            ]
          },
          "execution_count": 10,
          "metadata": {},
          "output_type": "execute_result"
        }
      ],
      "source": [
        "X_test.shape"
      ]
    }
  ],
  "metadata": {
    "anaconda-cloud": {},
    "kernelspec": {
      "display_name": "tf2.5",
      "language": "python",
      "name": "tensorflow_25"
    },
    "language_info": {
      "codemirror_mode": {
        "name": "ipython",
        "version": 3
      },
      "file_extension": ".py",
      "mimetype": "text/x-python",
      "name": "python",
      "nbconvert_exporter": "python",
      "pygments_lexer": "ipython3",
      "version": "3.8.10"
    },
    "nbpresent": {
      "slides": {
        "300ee14f-a043-486e-b274-7ff253907cd7": {
          "id": "300ee14f-a043-486e-b274-7ff253907cd7",
          "prev": "cb74e0bc-4513-4d13-b7f1-14c3078a7927",
          "regions": {
            "26dc3f39-a230-447c-af4c-f5e5b2fb7835": {
              "attrs": {
                "height": 0.8,
                "width": 0.8,
                "x": 0.1,
                "y": 0.1
              },
              "content": {
                "cell": "c58440a5-3f8f-4f37-9c79-6bf766209406",
                "part": "whole"
              },
              "id": "26dc3f39-a230-447c-af4c-f5e5b2fb7835"
            }
          }
        },
        "878aa53a-1444-4100-8f50-7a408191c579": {
          "id": "878aa53a-1444-4100-8f50-7a408191c579",
          "prev": null,
          "regions": {
            "a6c6843a-5ea6-4fbc-b890-3b4b8ae475b3": {
              "attrs": {
                "height": 0.8,
                "width": 0.8,
                "x": 0.1,
                "y": 0.1
              },
              "content": {
                "cell": "588ee1fa-64b5-453b-ade7-8e6b2515821c",
                "part": "whole"
              },
              "id": "a6c6843a-5ea6-4fbc-b890-3b4b8ae475b3"
            }
          }
        },
        "96ffe88e-7b50-43de-afdd-942e564f4e3e": {
          "id": "96ffe88e-7b50-43de-afdd-942e564f4e3e",
          "prev": "878aa53a-1444-4100-8f50-7a408191c579",
          "regions": {
            "b7e52e12-489a-468d-b10c-af2024fd2856": {
              "attrs": {
                "height": 0.8,
                "width": 0.8,
                "x": 0.1,
                "y": 0.1
              },
              "content": {
                "cell": "de829a92-1fb6-44ad-a2c6-fc1001e1f6e1",
                "part": "whole"
              },
              "id": "b7e52e12-489a-468d-b10c-af2024fd2856"
            }
          }
        },
        "cb74e0bc-4513-4d13-b7f1-14c3078a7927": {
          "id": "cb74e0bc-4513-4d13-b7f1-14c3078a7927",
          "prev": "96ffe88e-7b50-43de-afdd-942e564f4e3e",
          "regions": {
            "444878ee-68f3-4abb-acff-a7079b21e86d": {
              "attrs": {
                "height": 0.8,
                "width": 0.8,
                "x": 0.1,
                "y": 0.1
              },
              "content": {
                "cell": "25f3f538-1ee8-4d98-a6bb-14cbeb7a702d",
                "part": "whole"
              },
              "id": "444878ee-68f3-4abb-acff-a7079b21e86d"
            }
          }
        }
      },
      "themes": {}
    },
    "colab": {
      "provenance": [],
      "name": "persian-digit-dataset.ipynb",
      "include_colab_link": true
    }
  },
  "nbformat": 4,
  "nbformat_minor": 0
}